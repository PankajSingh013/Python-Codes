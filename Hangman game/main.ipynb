{
 "cells": [
  {
   "cell_type": "code",
   "execution_count": null,
   "metadata": {},
   "outputs": [],
   "source": [
    "import random\n",
    "import words\n",
    "import logos\n",
    "from IPython.display import clear_output"
   ]
  },
  {
   "cell_type": "code",
   "execution_count": null,
   "metadata": {},
   "outputs": [],
   "source": [
    "\n",
    "print(logos.logo)\n",
    "print('------------------------------------------------')\n",
    "#Step 1\n",
    "#word_list = [\"aardvark\", \"baboon\", \"camel\"]\n",
    "\n",
    "#choose a random word\n",
    "choosen_word= random.choice(words.words)\n",
    "print('word is :',choosen_word)\n",
    "\n",
    "#create an empty list and assing '_' to each position\n",
    "display=[]\n",
    "word_length=len(choosen_word)\n",
    "for i in range(word_length):\n",
    "    display+='_'\n",
    "print(display)\n",
    "\n",
    "lives=6\n",
    "end_of_game=False\n",
    "while not end_of_game:\n",
    "    #take input guess from user\n",
    "    guess=input(\"Guess the letter: \").lower()\n",
    "    clear_output()\n",
    "    \n",
    "    if guess in display:\n",
    "        print(f'You already guessed corrctly letter {guess}')\n",
    "    \n",
    "    #check if guess is correct or not. IF correct replace the '_' with the guess letter\n",
    "    for position in range(word_length):\n",
    "        letter=choosen_word[position]\n",
    "        if letter == guess:\n",
    "            display[position]=guess\n",
    "    \n",
    "    print('----------------')\n",
    "    print(display)\n",
    "    \n",
    "    if guess not in choosen_word:\n",
    "        lives-=1\n",
    "        print(f'You already guessed {guess} which is not in final word list. {lives} left out of 6')\n",
    "        if lives==0:\n",
    "            end_of_game=True\n",
    "            print(\"You Lose :( \")\n",
    "    \n",
    "    \n",
    "    if '_' not in display:\n",
    "        end_of_game=True\n",
    "        print('You Win')\n",
    "    \n",
    "    print(logos.stages[lives])\n",
    "\n"
   ]
  },
  {
   "cell_type": "code",
   "execution_count": null,
   "metadata": {},
   "outputs": [],
   "source": []
  },
  {
   "cell_type": "code",
   "execution_count": null,
   "metadata": {},
   "outputs": [],
   "source": []
  },
  {
   "cell_type": "code",
   "execution_count": null,
   "metadata": {},
   "outputs": [],
   "source": []
  },
  {
   "cell_type": "code",
   "execution_count": null,
   "metadata": {},
   "outputs": [],
   "source": []
  }
 ],
 "metadata": {
  "kernelspec": {
   "display_name": "Python 3",
   "language": "python",
   "name": "python3"
  },
  "language_info": {
   "codemirror_mode": {
    "name": "ipython",
    "version": 3
   },
   "file_extension": ".py",
   "mimetype": "text/x-python",
   "name": "python",
   "nbconvert_exporter": "python",
   "pygments_lexer": "ipython3",
   "version": "3.8.5"
  }
 },
 "nbformat": 4,
 "nbformat_minor": 4
}
