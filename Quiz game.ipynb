{
 "cells": [
  {
   "cell_type": "code",
   "execution_count": null,
   "metadata": {},
   "outputs": [],
   "source": [
    "#creating a simple quiz game using the OOPS concepts\n",
    "\n",
    "import data"
   ]
  },
  {
   "cell_type": "code",
   "execution_count": 3,
   "metadata": {},
   "outputs": [],
   "source": [
    "question_data = [\n",
    "{\"text\": \"A slug's blood is green.\", \"answer\": \"True\"},\n",
    "{\"text\": \"The loudest animal is the African Elephant.\", \"answer\": \"False\"},\n",
    "{\"text\": \"Approximately one quarter of human bones are in the feet.\", \"answer\": \"True\"},\n",
    "{\"text\": \"The total surface area of a human lungs is the size of a football pitch.\", \"answer\": \"True\"},\n",
    "{\"text\": \"In West Virginia, USA, if you accidentally hit an animal with your car, you are free to take it home to eat.\", \"answer\": \"True\"},\n",
    "{\"text\": \"In London, UK, if you happen to die in the House of Parliament, you are entitled to a state funeral.\", \"answer\": \"False\"},\n",
    "{\"text\": \"It is illegal to pee in the Ocean in Portugal.\", \"answer\": \"True\"},\n",
    "{\"text\": \"You can lead a cow down stairs but not up stairs.\", \"answer\": \"False\"},\n",
    "{\"text\": \"Google was originally called 'Backrub'.\", \"answer\": \"True\"},\n",
    "{\"text\": \"Buzz Aldrin's mother's maiden name was 'Moon'.\", \"answer\": \"True\"},\n",
    "{\"text\": \"No piece of square dry paper can be folded in half more than 7 times.\", \"answer\": \"False\"},\n",
    "{\"text\": \"A few ounces of chocolate can to kill a small dog.\", \"answer\": \"True\"}\n",
    "]"
   ]
  },
  {
   "cell_type": "code",
   "execution_count": 4,
   "metadata": {},
   "outputs": [
    {
     "name": "stdout",
     "output_type": "stream",
     "text": [
      "Q.1: A slug's blood is green. (True/False)a\n",
      "Wrong Answer\n",
      "Score is 0/1\n",
      "\n",
      "\n",
      "Q.2: The loudest animal is the African Elephant. (True/False)a\n",
      "Wrong Answer\n",
      "Score is 0/2\n",
      "\n",
      "\n",
      "Q.3: Approximately one quarter of human bones are in the feet. (True/False)a\n",
      "Wrong Answer\n",
      "Score is 0/3\n",
      "\n",
      "\n",
      "Q.4: The total surface area of a human lungs is the size of a football pitch. (True/False)a\n",
      "Wrong Answer\n",
      "Score is 0/4\n",
      "\n",
      "\n",
      "Q.5: In West Virginia, USA, if you accidentally hit an animal with your car, you are free to take it home to eat. (True/False)a\n",
      "Wrong Answer\n",
      "Score is 0/5\n",
      "\n",
      "\n",
      "Q.6: In London, UK, if you happen to die in the House of Parliament, you are entitled to a state funeral. (True/False)a\n",
      "Wrong Answer\n",
      "Score is 0/6\n",
      "\n",
      "\n",
      "Q.7: It is illegal to pee in the Ocean in Portugal. (True/False)a\n",
      "Wrong Answer\n",
      "Score is 0/7\n",
      "\n",
      "\n",
      "Q.8: You can lead a cow down stairs but not up stairs. (True/False)a\n",
      "Wrong Answer\n",
      "Score is 0/8\n",
      "\n",
      "\n",
      "Q.9: Google was originally called 'Backrub'. (True/False)a\n",
      "Wrong Answer\n",
      "Score is 0/9\n",
      "\n",
      "\n",
      "Q.10: Buzz Aldrin's mother's maiden name was 'Moon'. (True/False)a\n",
      "Wrong Answer\n",
      "Score is 0/10\n",
      "\n",
      "\n",
      "Q.11: No piece of square dry paper can be folded in half more than 7 times. (True/False)a\n",
      "Wrong Answer\n",
      "Score is 0/11\n",
      "\n",
      "\n",
      "Q.12: A few ounces of chocolate can to kill a small dog. (True/False)a\n",
      "Wrong Answer\n",
      "Score is 0/12\n",
      "\n",
      "\n",
      "\n",
      "Your Final score is 0/12\n"
     ]
    }
   ],
   "source": [
    "class Question:\n",
    "    \n",
    "    def __init__(self,text,answer):\n",
    "        self.text=text\n",
    "        self.answer=answer\n",
    "\n",
    "#creating a quizbrain class for all the computations\n",
    "# getting the question number, checking whetehr the ans given is right orr wrong\n",
    "class QuizBrain:\n",
    "    \n",
    "    def __init__(self,q_list):\n",
    "        self.question_no=0\n",
    "        self.question_data=q_list\n",
    "        self.score=0\n",
    "        \n",
    "    \n",
    "    def still_has_question(self):\n",
    "        return self.question_no< len(self.question_data)\n",
    "#         if question_no>=len(self.question_data-1):\n",
    "#             return False\n",
    "#         else:\n",
    "#             return  True\n",
    "        \n",
    "       \n",
    "    def next_question(self):\n",
    "        \n",
    "        #total_questions=len(self.question_data)\n",
    "        #while self.still_has_question(self.question_no):\n",
    "        current_item=self.question_data[self.question_no]\n",
    "        current_text=current_item.text\n",
    "        self.question_no+=1\n",
    "        ans=input(f\"Q.{self.question_no}: {current_text} (True/False)\")\n",
    "        self.check_ans(ans,current_item)\n",
    "\n",
    "    def check_ans(self,ans,current_item):\n",
    "        #count_correct=0\n",
    "        if ans.lower()==current_item.answer.lower():\n",
    "            self.score+=1\n",
    "            print('Correct answer')\n",
    "            print(f\"Score is {self.score}/{self.question_no}\")\n",
    "            print(\"\\n\")\n",
    "        else:\n",
    "            print('Wrong Answer')\n",
    "            print(f\"Score is {self.score}/{self.question_no}\")\n",
    "            print(\"\\n\")\n",
    "            \n",
    "\n",
    "\n",
    "question_bank=[]\n",
    "for item in question_data:\n",
    "    question_bank.append(Question(item['text'],item['answer']))\n",
    "    #print(item['text'],\" ::::\", item['answer'])\n",
    "\n",
    "#print(question_bank[0].text)\n",
    "# quiz_game=QuizBrain(question_bank)\n",
    "# quiz_game.next_question()\n",
    "\n",
    "\n",
    "quiz_game=QuizBrain(question_bank)\n",
    "while quiz_game.still_has_question():\n",
    "    quiz_game.next_question()\n",
    "\n",
    "print(f'\\nYour Final score is {quiz_game.score}/{quiz_game.question_no}')"
   ]
  },
  {
   "cell_type": "code",
   "execution_count": null,
   "metadata": {},
   "outputs": [],
   "source": []
  },
  {
   "cell_type": "code",
   "execution_count": null,
   "metadata": {},
   "outputs": [],
   "source": []
  },
  {
   "cell_type": "code",
   "execution_count": 6,
   "metadata": {},
   "outputs": [
    {
     "data": {
      "text/plain": [
       "bool"
      ]
     },
     "execution_count": 6,
     "metadata": {},
     "output_type": "execute_result"
    }
   ],
   "source": [
    "type(quiz_game.still_has_question())"
   ]
  },
  {
   "cell_type": "code",
   "execution_count": null,
   "metadata": {},
   "outputs": [],
   "source": [
    "12<12"
   ]
  },
  {
   "cell_type": "code",
   "execution_count": null,
   "metadata": {},
   "outputs": [],
   "source": []
  }
 ],
 "metadata": {
  "kernelspec": {
   "display_name": "Python 3",
   "language": "python",
   "name": "python3"
  },
  "language_info": {
   "codemirror_mode": {
    "name": "ipython",
    "version": 3
   },
   "file_extension": ".py",
   "mimetype": "text/x-python",
   "name": "python",
   "nbconvert_exporter": "python",
   "pygments_lexer": "ipython3",
   "version": "3.8.5"
  }
 },
 "nbformat": 4,
 "nbformat_minor": 4
}
